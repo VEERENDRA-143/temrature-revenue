{
 "cells": [
  {
   "cell_type": "markdown",
   "metadata": {},
   "source": [
    "# Importing libraries"
   ]
  },
  {
   "cell_type": "code",
   "execution_count": 13,
   "metadata": {},
   "outputs": [],
   "source": [
    "import pandas as pd\n",
    "import numpy as np\n",
    "import pickle\n",
    "from sklearn.model_selection import train_test_split\n",
    "from sklearn.metrics import accuracy_score,r2_score\n",
    "from sklearn.linear_model import LinearRegression"
   ]
  },
  {
   "cell_type": "code",
   "execution_count": 2,
   "metadata": {},
   "outputs": [],
   "source": [
    "df = pd.read_csv('./IceCreamData.csv')"
   ]
  },
  {
   "cell_type": "code",
   "execution_count": 3,
   "metadata": {},
   "outputs": [
    {
     "data": {
      "text/html": [
       "<div>\n",
       "<style scoped>\n",
       "    .dataframe tbody tr th:only-of-type {\n",
       "        vertical-align: middle;\n",
       "    }\n",
       "\n",
       "    .dataframe tbody tr th {\n",
       "        vertical-align: top;\n",
       "    }\n",
       "\n",
       "    .dataframe thead th {\n",
       "        text-align: right;\n",
       "    }\n",
       "</style>\n",
       "<table border=\"1\" class=\"dataframe\">\n",
       "  <thead>\n",
       "    <tr style=\"text-align: right;\">\n",
       "      <th></th>\n",
       "      <th>Temperature</th>\n",
       "      <th>Revenue</th>\n",
       "    </tr>\n",
       "  </thead>\n",
       "  <tbody>\n",
       "    <tr>\n",
       "      <th>0</th>\n",
       "      <td>24.566884</td>\n",
       "      <td>534.799028</td>\n",
       "    </tr>\n",
       "    <tr>\n",
       "      <th>1</th>\n",
       "      <td>26.005191</td>\n",
       "      <td>625.190122</td>\n",
       "    </tr>\n",
       "    <tr>\n",
       "      <th>2</th>\n",
       "      <td>27.790554</td>\n",
       "      <td>660.632289</td>\n",
       "    </tr>\n",
       "    <tr>\n",
       "      <th>3</th>\n",
       "      <td>20.595335</td>\n",
       "      <td>487.706960</td>\n",
       "    </tr>\n",
       "    <tr>\n",
       "      <th>4</th>\n",
       "      <td>11.503498</td>\n",
       "      <td>316.240194</td>\n",
       "    </tr>\n",
       "  </tbody>\n",
       "</table>\n",
       "</div>"
      ],
      "text/plain": [
       "   Temperature     Revenue\n",
       "0    24.566884  534.799028\n",
       "1    26.005191  625.190122\n",
       "2    27.790554  660.632289\n",
       "3    20.595335  487.706960\n",
       "4    11.503498  316.240194"
      ]
     },
     "execution_count": 3,
     "metadata": {},
     "output_type": "execute_result"
    }
   ],
   "source": [
    "df.head()"
   ]
  },
  {
   "cell_type": "code",
   "execution_count": 4,
   "metadata": {},
   "outputs": [
    {
     "data": {
      "text/plain": [
       "Temperature    0\n",
       "Revenue        0\n",
       "dtype: int64"
      ]
     },
     "execution_count": 4,
     "metadata": {},
     "output_type": "execute_result"
    }
   ],
   "source": [
    "df.isnull().sum()"
   ]
  },
  {
   "cell_type": "code",
   "execution_count": 5,
   "metadata": {},
   "outputs": [
    {
     "name": "stdout",
     "output_type": "stream",
     "text": [
      "<class 'pandas.core.frame.DataFrame'>\n",
      "RangeIndex: 500 entries, 0 to 499\n",
      "Data columns (total 2 columns):\n",
      " #   Column       Non-Null Count  Dtype  \n",
      "---  ------       --------------  -----  \n",
      " 0   Temperature  500 non-null    float64\n",
      " 1   Revenue      500 non-null    float64\n",
      "dtypes: float64(2)\n",
      "memory usage: 7.9 KB\n"
     ]
    }
   ],
   "source": [
    "df.info()"
   ]
  },
  {
   "cell_type": "code",
   "execution_count": 6,
   "metadata": {},
   "outputs": [],
   "source": [
    "x = df['Temperature']\n",
    "y = df['Revenue']"
   ]
  },
  {
   "cell_type": "code",
   "execution_count": 9,
   "metadata": {},
   "outputs": [],
   "source": [
    "x_tarin,x_test,y_train,y_test = train_test_split(x,y,test_size=0.2)"
   ]
  },
  {
   "cell_type": "code",
   "execution_count": 11,
   "metadata": {},
   "outputs": [
    {
     "data": {
      "text/plain": [
       "100"
      ]
     },
     "execution_count": 11,
     "metadata": {},
     "output_type": "execute_result"
    }
   ],
   "source": [
    "len(x_test)"
   ]
  },
  {
   "cell_type": "code",
   "execution_count": 14,
   "metadata": {},
   "outputs": [],
   "source": [
    "model = LinearRegression()"
   ]
  },
  {
   "cell_type": "code",
   "execution_count": 18,
   "metadata": {},
   "outputs": [
    {
     "data": {
      "text/plain": [
       "array([[13.30179635],\n",
       "       [16.30255473],\n",
       "       [16.19129752],\n",
       "       [20.59533505],\n",
       "       [16.70385182],\n",
       "       [28.70127646],\n",
       "       [13.33060576],\n",
       "       [17.51707397],\n",
       "       [ 9.3093456 ],\n",
       "       [22.18951589],\n",
       "       [29.3050392 ],\n",
       "       [31.41262876],\n",
       "       [26.87495294],\n",
       "       [23.40725697],\n",
       "       [21.71200518],\n",
       "       [16.14582413],\n",
       "       [41.92444647],\n",
       "       [ 8.99176011],\n",
       "       [10.4471261 ],\n",
       "       [26.4560508 ],\n",
       "       [13.36431317],\n",
       "       [24.62861149],\n",
       "       [27.18851714],\n",
       "       [16.40602096],\n",
       "       [29.50819457],\n",
       "       [35.62892497],\n",
       "       [21.12912561],\n",
       "       [14.35251388],\n",
       "       [28.72991474],\n",
       "       [26.36052065],\n",
       "       [21.14404693],\n",
       "       [26.36974685],\n",
       "       [ 7.56112494],\n",
       "       [ 3.98652317],\n",
       "       [19.72133149],\n",
       "       [ 3.66466958],\n",
       "       [16.30012497],\n",
       "       [22.52674945],\n",
       "       [17.57423462],\n",
       "       [29.7185162 ],\n",
       "       [23.82492237],\n",
       "       [12.20968364],\n",
       "       [18.15921677],\n",
       "       [21.61064376],\n",
       "       [36.56911506],\n",
       "       [12.68842965],\n",
       "       [26.07840506],\n",
       "       [ 5.82233235],\n",
       "       [39.5131548 ],\n",
       "       [21.77594799],\n",
       "       [ 9.81251047],\n",
       "       [28.85519147],\n",
       "       [24.96044566],\n",
       "       [23.98464085],\n",
       "       [18.88371892],\n",
       "       [24.18393726],\n",
       "       [24.56688442],\n",
       "       [28.82975908],\n",
       "       [27.5990664 ],\n",
       "       [27.18581031],\n",
       "       [32.63285815],\n",
       "       [16.55584289],\n",
       "       [16.36494499],\n",
       "       [26.33705248],\n",
       "       [20.47502254],\n",
       "       [29.25112258],\n",
       "       [ 6.39383463],\n",
       "       [20.94791347],\n",
       "       [21.70395288],\n",
       "       [18.77353222],\n",
       "       [26.53021877],\n",
       "       [29.87997288],\n",
       "       [20.55667911],\n",
       "       [24.11359659],\n",
       "       [22.22512228],\n",
       "       [25.99599345],\n",
       "       [21.67989703],\n",
       "       [14.55121221],\n",
       "       [19.84924077],\n",
       "       [22.44803391],\n",
       "       [20.93460766],\n",
       "       [21.54045905],\n",
       "       [16.55794796],\n",
       "       [17.58837197],\n",
       "       [21.89743267],\n",
       "       [13.70777988],\n",
       "       [38.14633277],\n",
       "       [27.51664567],\n",
       "       [27.31281141],\n",
       "       [35.35976059],\n",
       "       [26.9567197 ],\n",
       "       [19.77514871],\n",
       "       [17.19943002],\n",
       "       [26.94363797],\n",
       "       [34.86070051],\n",
       "       [28.46493296],\n",
       "       [20.97115284],\n",
       "       [23.07061587],\n",
       "       [19.11365281],\n",
       "       [11.05909651],\n",
       "       [28.2717647 ],\n",
       "       [23.38514451],\n",
       "       [23.59102806],\n",
       "       [24.30829573],\n",
       "       [25.71796257],\n",
       "       [21.42455778],\n",
       "       [30.76273994],\n",
       "       [30.83398474],\n",
       "       [12.26588434],\n",
       "       [30.66659556],\n",
       "       [31.22898848],\n",
       "       [ 9.07383825],\n",
       "       [12.90177331],\n",
       "       [27.79055388],\n",
       "       [ 9.40347921],\n",
       "       [25.22777375],\n",
       "       [10.32638937],\n",
       "       [ 0.97686999],\n",
       "       [22.27489926],\n",
       "       [29.18504465],\n",
       "       [23.42464718],\n",
       "       [18.48314099],\n",
       "       [32.29733128],\n",
       "       [26.12213765],\n",
       "       [18.97830025],\n",
       "       [25.19142452],\n",
       "       [32.46497067],\n",
       "       [14.93150577],\n",
       "       [19.25165371],\n",
       "       [15.75395072],\n",
       "       [30.02820743],\n",
       "       [10.09664458],\n",
       "       [45.        ],\n",
       "       [12.70471774],\n",
       "       [15.91667782],\n",
       "       [20.51163741],\n",
       "       [ 8.75555394],\n",
       "       [27.78049953],\n",
       "       [27.72143999],\n",
       "       [23.57711325],\n",
       "       [11.56964367],\n",
       "       [22.11870569],\n",
       "       [17.18894776],\n",
       "       [27.99922248],\n",
       "       [29.31201255],\n",
       "       [12.43313955],\n",
       "       [12.30161489],\n",
       "       [25.42216523],\n",
       "       [30.08108934],\n",
       "       [23.88172478],\n",
       "       [35.03345633],\n",
       "       [24.80257679],\n",
       "       [22.84197048],\n",
       "       [19.81753939],\n",
       "       [24.72715441],\n",
       "       [24.54855656],\n",
       "       [24.94971519],\n",
       "       [24.47243216],\n",
       "       [27.37540101],\n",
       "       [37.05754246],\n",
       "       [18.77682968],\n",
       "       [16.02097541],\n",
       "       [17.87119907],\n",
       "       [17.99701481],\n",
       "       [15.99234716],\n",
       "       [22.39797728],\n",
       "       [32.80503252],\n",
       "       [33.23567229],\n",
       "       [17.36073198],\n",
       "       [32.47979434],\n",
       "       [18.95252067],\n",
       "       [19.2786717 ],\n",
       "       [28.43656665],\n",
       "       [23.76143592],\n",
       "       [32.64993621],\n",
       "       [34.47216919],\n",
       "       [18.46290678],\n",
       "       [21.00704512],\n",
       "       [11.18775682],\n",
       "       [29.43057848],\n",
       "       [25.33342015],\n",
       "       [22.24873896],\n",
       "       [37.99863474],\n",
       "       [40.47398918],\n",
       "       [21.32239237],\n",
       "       [25.05628082],\n",
       "       [19.43326763],\n",
       "       [26.18796989],\n",
       "       [24.48490862],\n",
       "       [34.67804648],\n",
       "       [39.8593964 ],\n",
       "       [32.10707989],\n",
       "       [15.67648661],\n",
       "       [19.02461092],\n",
       "       [22.65313582],\n",
       "       [12.4508333 ],\n",
       "       [28.99373705],\n",
       "       [20.22642046],\n",
       "       [18.14895234],\n",
       "       [30.40761507],\n",
       "       [28.79315859],\n",
       "       [ 9.65149525],\n",
       "       [ 9.95435701],\n",
       "       [27.57296049],\n",
       "       [30.96508651],\n",
       "       [28.4595428 ],\n",
       "       [30.42779184],\n",
       "       [11.17715183],\n",
       "       [23.41086133],\n",
       "       [ 5.30750735],\n",
       "       [26.00519115],\n",
       "       [20.89871624],\n",
       "       [41.76658912],\n",
       "       [15.23119012],\n",
       "       [12.58815695],\n",
       "       [20.24414985],\n",
       "       [15.52116187],\n",
       "       [14.73955066],\n",
       "       [31.7379196 ],\n",
       "       [28.78743552],\n",
       "       [20.05018591],\n",
       "       [38.62886243],\n",
       "       [25.8659433 ],\n",
       "       [18.97799114],\n",
       "       [27.52923218],\n",
       "       [31.8914678 ],\n",
       "       [ 9.55727588],\n",
       "       [27.12941186],\n",
       "       [31.16003022],\n",
       "       [25.45783637],\n",
       "       [26.25074588],\n",
       "       [35.21724007],\n",
       "       [11.45525338],\n",
       "       [18.50836039],\n",
       "       [25.49968375],\n",
       "       [18.90848865],\n",
       "       [22.17119887],\n",
       "       [ 4.23646497],\n",
       "       [16.37957324],\n",
       "       [14.37969698],\n",
       "       [22.00987431],\n",
       "       [25.41930193],\n",
       "       [12.12301401],\n",
       "       [13.62450892],\n",
       "       [11.07784312],\n",
       "       [33.51453981],\n",
       "       [24.77867495],\n",
       "       [18.57811922],\n",
       "       [32.40924246],\n",
       "       [27.11773949],\n",
       "       [38.18519935],\n",
       "       [33.25089892],\n",
       "       [35.09479555],\n",
       "       [19.06659113],\n",
       "       [25.44824   ],\n",
       "       [24.10161613],\n",
       "       [20.26501213],\n",
       "       [19.61787546],\n",
       "       [26.9236056 ],\n",
       "       [12.06247527],\n",
       "       [25.54596553],\n",
       "       [ 6.35245937],\n",
       "       [30.24724825],\n",
       "       [24.34910395],\n",
       "       [19.36315346],\n",
       "       [27.93134811],\n",
       "       [27.32232277],\n",
       "       [29.4637861 ],\n",
       "       [18.4750345 ],\n",
       "       [29.70702382],\n",
       "       [12.90066587],\n",
       "       [24.24037247],\n",
       "       [25.93537514],\n",
       "       [24.5288527 ],\n",
       "       [39.53990899],\n",
       "       [17.13279538],\n",
       "       [27.72739922],\n",
       "       [20.41103121],\n",
       "       [27.70505923],\n",
       "       [28.64919191],\n",
       "       [10.24505765],\n",
       "       [24.81875357],\n",
       "       [22.36240237],\n",
       "       [24.49347704],\n",
       "       [19.17204498],\n",
       "       [17.6568394 ],\n",
       "       [35.44454622],\n",
       "       [19.26778542],\n",
       "       [15.02911176],\n",
       "       [ 7.74528596],\n",
       "       [18.88035599],\n",
       "       [23.24671713],\n",
       "       [ 5.33841267],\n",
       "       [17.45516162],\n",
       "       [20.24734584],\n",
       "       [22.31107869],\n",
       "       [21.02639814],\n",
       "       [ 8.58694814],\n",
       "       [18.43998163],\n",
       "       [21.6018917 ],\n",
       "       [42.51528041],\n",
       "       [31.66946458],\n",
       "       [15.04792332],\n",
       "       [22.28455032],\n",
       "       [10.40342267],\n",
       "       [21.90251935],\n",
       "       [21.6967827 ],\n",
       "       [29.91930886],\n",
       "       [19.81463838],\n",
       "       [26.19166817],\n",
       "       [20.12955049],\n",
       "       [18.60275025],\n",
       "       [20.01638438],\n",
       "       [28.95773632],\n",
       "       [25.72547019],\n",
       "       [27.12812867],\n",
       "       [29.12912778],\n",
       "       [23.4125478 ],\n",
       "       [23.95931178],\n",
       "       [12.18941793],\n",
       "       [12.46293731],\n",
       "       [20.10390047],\n",
       "       [25.11606991],\n",
       "       [20.89661921],\n",
       "       [28.33536277],\n",
       "       [14.86610347],\n",
       "       [31.57998903],\n",
       "       [23.97593152],\n",
       "       [ 0.2670277 ],\n",
       "       [30.56266124],\n",
       "       [24.52184673],\n",
       "       [25.55120003],\n",
       "       [23.05621357],\n",
       "       [29.24175192],\n",
       "       [32.00436506],\n",
       "       [22.63297707],\n",
       "       [17.29920384],\n",
       "       [ 8.75600403],\n",
       "       [30.22810362],\n",
       "       [ 9.01886024],\n",
       "       [ 8.63807589],\n",
       "       [15.11819661],\n",
       "       [30.33033167],\n",
       "       [29.03573877],\n",
       "       [14.73182422],\n",
       "       [23.08766377],\n",
       "       [25.3804373 ],\n",
       "       [18.77535808],\n",
       "       [36.11656147],\n",
       "       [14.36142415],\n",
       "       [14.2635406 ],\n",
       "       [19.19495126],\n",
       "       [18.88716165],\n",
       "       [26.9441229 ],\n",
       "       [32.89309211],\n",
       "       [35.33120818],\n",
       "       [10.11973687],\n",
       "       [ 0.        ],\n",
       "       [23.0034888 ],\n",
       "       [24.77819856],\n",
       "       [21.4881766 ],\n",
       "       [24.24311263],\n",
       "       [25.24114819],\n",
       "       [26.16885914],\n",
       "       [14.3840835 ],\n",
       "       [36.99708394],\n",
       "       [20.15334527],\n",
       "       [16.99788893],\n",
       "       [19.49474317],\n",
       "       [22.38760374],\n",
       "       [27.88711086],\n",
       "       [ 8.03315296],\n",
       "       [38.66820248],\n",
       "       [11.69453767],\n",
       "       [16.25872074],\n",
       "       [22.6785601 ],\n",
       "       [23.9638795 ],\n",
       "       [24.98851899],\n",
       "       [19.05928653],\n",
       "       [30.08518963],\n",
       "       [28.04640445],\n",
       "       [31.47122432],\n",
       "       [24.76187643],\n",
       "       [26.85972289],\n",
       "       [18.81182403],\n",
       "       [ 6.09389721],\n",
       "       [33.31499762],\n",
       "       [28.86558895],\n",
       "       [11.13270573],\n",
       "       [17.26218112],\n",
       "       [ 8.79095281],\n",
       "       [23.15300185],\n",
       "       [28.54798741],\n",
       "       [15.84302201],\n",
       "       [15.21456942],\n",
       "       [26.96421749],\n",
       "       [16.95477783],\n",
       "       [25.42294716],\n",
       "       [28.63373276],\n",
       "       [22.48279827]])"
      ]
     },
     "execution_count": 18,
     "metadata": {},
     "output_type": "execute_result"
    }
   ],
   "source": [
    "np.array([x_tarin]).reshape(-1,1)"
   ]
  },
  {
   "cell_type": "code",
   "execution_count": 19,
   "metadata": {},
   "outputs": [
    {
     "data": {
      "text/html": [
       "<style>#sk-container-id-1 {color: black;}#sk-container-id-1 pre{padding: 0;}#sk-container-id-1 div.sk-toggleable {background-color: white;}#sk-container-id-1 label.sk-toggleable__label {cursor: pointer;display: block;width: 100%;margin-bottom: 0;padding: 0.3em;box-sizing: border-box;text-align: center;}#sk-container-id-1 label.sk-toggleable__label-arrow:before {content: \"▸\";float: left;margin-right: 0.25em;color: #696969;}#sk-container-id-1 label.sk-toggleable__label-arrow:hover:before {color: black;}#sk-container-id-1 div.sk-estimator:hover label.sk-toggleable__label-arrow:before {color: black;}#sk-container-id-1 div.sk-toggleable__content {max-height: 0;max-width: 0;overflow: hidden;text-align: left;background-color: #f0f8ff;}#sk-container-id-1 div.sk-toggleable__content pre {margin: 0.2em;color: black;border-radius: 0.25em;background-color: #f0f8ff;}#sk-container-id-1 input.sk-toggleable__control:checked~div.sk-toggleable__content {max-height: 200px;max-width: 100%;overflow: auto;}#sk-container-id-1 input.sk-toggleable__control:checked~label.sk-toggleable__label-arrow:before {content: \"▾\";}#sk-container-id-1 div.sk-estimator input.sk-toggleable__control:checked~label.sk-toggleable__label {background-color: #d4ebff;}#sk-container-id-1 div.sk-label input.sk-toggleable__control:checked~label.sk-toggleable__label {background-color: #d4ebff;}#sk-container-id-1 input.sk-hidden--visually {border: 0;clip: rect(1px 1px 1px 1px);clip: rect(1px, 1px, 1px, 1px);height: 1px;margin: -1px;overflow: hidden;padding: 0;position: absolute;width: 1px;}#sk-container-id-1 div.sk-estimator {font-family: monospace;background-color: #f0f8ff;border: 1px dotted black;border-radius: 0.25em;box-sizing: border-box;margin-bottom: 0.5em;}#sk-container-id-1 div.sk-estimator:hover {background-color: #d4ebff;}#sk-container-id-1 div.sk-parallel-item::after {content: \"\";width: 100%;border-bottom: 1px solid gray;flex-grow: 1;}#sk-container-id-1 div.sk-label:hover label.sk-toggleable__label {background-color: #d4ebff;}#sk-container-id-1 div.sk-serial::before {content: \"\";position: absolute;border-left: 1px solid gray;box-sizing: border-box;top: 0;bottom: 0;left: 50%;z-index: 0;}#sk-container-id-1 div.sk-serial {display: flex;flex-direction: column;align-items: center;background-color: white;padding-right: 0.2em;padding-left: 0.2em;position: relative;}#sk-container-id-1 div.sk-item {position: relative;z-index: 1;}#sk-container-id-1 div.sk-parallel {display: flex;align-items: stretch;justify-content: center;background-color: white;position: relative;}#sk-container-id-1 div.sk-item::before, #sk-container-id-1 div.sk-parallel-item::before {content: \"\";position: absolute;border-left: 1px solid gray;box-sizing: border-box;top: 0;bottom: 0;left: 50%;z-index: -1;}#sk-container-id-1 div.sk-parallel-item {display: flex;flex-direction: column;z-index: 1;position: relative;background-color: white;}#sk-container-id-1 div.sk-parallel-item:first-child::after {align-self: flex-end;width: 50%;}#sk-container-id-1 div.sk-parallel-item:last-child::after {align-self: flex-start;width: 50%;}#sk-container-id-1 div.sk-parallel-item:only-child::after {width: 0;}#sk-container-id-1 div.sk-dashed-wrapped {border: 1px dashed gray;margin: 0 0.4em 0.5em 0.4em;box-sizing: border-box;padding-bottom: 0.4em;background-color: white;}#sk-container-id-1 div.sk-label label {font-family: monospace;font-weight: bold;display: inline-block;line-height: 1.2em;}#sk-container-id-1 div.sk-label-container {text-align: center;}#sk-container-id-1 div.sk-container {/* jupyter's `normalize.less` sets `[hidden] { display: none; }` but bootstrap.min.css set `[hidden] { display: none !important; }` so we also need the `!important` here to be able to override the default hidden behavior on the sphinx rendered scikit-learn.org. See: https://github.com/scikit-learn/scikit-learn/issues/21755 */display: inline-block !important;position: relative;}#sk-container-id-1 div.sk-text-repr-fallback {display: none;}</style><div id=\"sk-container-id-1\" class=\"sk-top-container\"><div class=\"sk-text-repr-fallback\"><pre>LinearRegression()</pre><b>In a Jupyter environment, please rerun this cell to show the HTML representation or trust the notebook. <br />On GitHub, the HTML representation is unable to render, please try loading this page with nbviewer.org.</b></div><div class=\"sk-container\" hidden><div class=\"sk-item\"><div class=\"sk-estimator sk-toggleable\"><input class=\"sk-toggleable__control sk-hidden--visually\" id=\"sk-estimator-id-1\" type=\"checkbox\" checked><label for=\"sk-estimator-id-1\" class=\"sk-toggleable__label sk-toggleable__label-arrow\">LinearRegression</label><div class=\"sk-toggleable__content\"><pre>LinearRegression()</pre></div></div></div></div></div>"
      ],
      "text/plain": [
       "LinearRegression()"
      ]
     },
     "execution_count": 19,
     "metadata": {},
     "output_type": "execute_result"
    }
   ],
   "source": [
    "model.fit(np.array([x_tarin]).reshape(-1,1),y_train)"
   ]
  },
  {
   "cell_type": "code",
   "execution_count": 22,
   "metadata": {},
   "outputs": [],
   "source": [
    "y_pred = model.predict(np.array([x_test]).reshape(-1,1))"
   ]
  },
  {
   "cell_type": "code",
   "execution_count": 23,
   "metadata": {},
   "outputs": [
    {
     "data": {
      "text/plain": [
       "array([805.47622578, 600.61805178, 148.06534484, 422.97189266,\n",
       "       519.54733485, 683.20313409, 548.44942809, 697.99896474,\n",
       "       620.99897316, 472.80517386, 724.03870672, 368.05387678,\n",
       "       456.16165369, 681.82693986, 451.48351121, 435.3224279 ,\n",
       "       832.2184686 , 671.20109068, 545.25828997, 502.47257946,\n",
       "       184.09543206, 437.76344713, 443.93292839, 583.14486695,\n",
       "       651.62366347, 768.64486737, 409.8898744 , 841.34070165,\n",
       "       798.21311893, 629.75544225, 898.0096306 , 423.64944017,\n",
       "       363.62813455, 441.18911895, 650.85307695, 746.55740885,\n",
       "       468.01820515, 710.32516812, 664.54960923, 483.46666587,\n",
       "       604.93894313, 307.19671946, 775.467009  , 909.60618143,\n",
       "       500.83705829, 422.50846086, 310.8861068 , 465.18053624,\n",
       "       472.9212272 , 410.76894245, 485.3882677 , 509.48676972,\n",
       "       313.65530946, 701.83628352, 253.7183764 , 529.90839469,\n",
       "       169.39535665, 380.05664525, 445.53525051, 731.25235818,\n",
       "       189.09585323, 256.25225136, 662.18383101, 198.72679807,\n",
       "       468.54814056, 350.52437476, 199.54277898, 580.78777434,\n",
       "       467.44592392, 292.67277311, 232.48512818, 625.1898701 ,\n",
       "       572.46832695, 862.17554747, 529.57704221, 519.41256097,\n",
       "       510.94088533, 359.0932618 , 378.47925476, 635.36197772,\n",
       "       430.16049838, 536.4751845 , 534.97618623, 346.70924707,\n",
       "       738.35762396, 591.40881504, 442.16491982, 325.27977938,\n",
       "       588.77603407, 308.93982047, 615.01346974, 679.36204693,\n",
       "       303.19182918, 290.7042308 , 492.64224519, 201.13507434,\n",
       "       655.77271163, 196.2364684 , 571.83803517, 764.50191683])"
      ]
     },
     "execution_count": 23,
     "metadata": {},
     "output_type": "execute_result"
    }
   ],
   "source": [
    "y_pred"
   ]
  },
  {
   "cell_type": "code",
   "execution_count": 24,
   "metadata": {},
   "outputs": [
    {
     "data": {
      "text/plain": [
       "268    828.296077\n",
       "116    572.081292\n",
       "484    188.151331\n",
       "103    401.433018\n",
       "317    537.766112\n",
       "          ...    \n",
       "396    192.341996\n",
       "271    651.486741\n",
       "388    221.400252\n",
       "136    599.364914\n",
       "62     774.108081\n",
       "Name: Revenue, Length: 100, dtype: float64"
      ]
     },
     "execution_count": 24,
     "metadata": {},
     "output_type": "execute_result"
    }
   ],
   "source": [
    "y_test"
   ]
  },
  {
   "cell_type": "code",
   "execution_count": 25,
   "metadata": {},
   "outputs": [
    {
     "data": {
      "text/plain": [
       "0.9794730105434577"
      ]
     },
     "execution_count": 25,
     "metadata": {},
     "output_type": "execute_result"
    }
   ],
   "source": [
    "r2_score(y_test,y_pred)"
   ]
  },
  {
   "cell_type": "code",
   "execution_count": 31,
   "metadata": {},
   "outputs": [
    {
     "data": {
      "text/plain": [
       "array([559.24718685])"
      ]
     },
     "execution_count": 31,
     "metadata": {},
     "output_type": "execute_result"
    }
   ],
   "source": [
    "model.predict([[24]])"
   ]
  },
  {
   "cell_type": "code",
   "execution_count": 32,
   "metadata": {},
   "outputs": [],
   "source": [
    "with open('model.pkl','wb') as files:\n",
    "    pickle.dump(model,files)"
   ]
  },
  {
   "cell_type": "code",
   "execution_count": null,
   "metadata": {},
   "outputs": [],
   "source": []
  },
  {
   "cell_type": "code",
   "execution_count": null,
   "metadata": {},
   "outputs": [],
   "source": []
  },
  {
   "cell_type": "code",
   "execution_count": null,
   "metadata": {},
   "outputs": [],
   "source": []
  },
  {
   "cell_type": "code",
   "execution_count": null,
   "metadata": {},
   "outputs": [],
   "source": []
  },
  {
   "cell_type": "code",
   "execution_count": null,
   "metadata": {},
   "outputs": [],
   "source": []
  },
  {
   "cell_type": "code",
   "execution_count": null,
   "metadata": {},
   "outputs": [],
   "source": []
  }
 ],
 "metadata": {
  "kernelspec": {
   "display_name": "venv",
   "language": "python",
   "name": "python3"
  },
  "language_info": {
   "codemirror_mode": {
    "name": "ipython",
    "version": 3
   },
   "file_extension": ".py",
   "mimetype": "text/x-python",
   "name": "python",
   "nbconvert_exporter": "python",
   "pygments_lexer": "ipython3",
   "version": "3.11.3"
  },
  "orig_nbformat": 4
 },
 "nbformat": 4,
 "nbformat_minor": 2
}
